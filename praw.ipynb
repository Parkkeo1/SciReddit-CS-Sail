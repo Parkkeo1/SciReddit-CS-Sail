{
 "cells": [
  {
   "cell_type": "markdown",
   "metadata": {},
   "source": [
    "# Working with PRAW and Reddit API\n",
    "\n",
    "http://praw.readthedocs.io/en/latest/getting_started/quick_start.html"
   ]
  },
  {
   "cell_type": "code",
   "execution_count": 1,
   "metadata": {},
   "outputs": [],
   "source": [
    "# you need to have these installed:\n",
    "import praw\n",
    "import pandas as pd\n",
    "\n",
    "# optional libraries. use 'conda install <library name>'\n",
    "import matplotlib as plt\n",
    "import numpy as np"
   ]
  },
  {
   "cell_type": "code",
   "execution_count": 3,
   "metadata": {},
   "outputs": [
    {
     "name": "stdout",
     "output_type": "stream",
     "text": [
      "uiuc\n",
      "The University of Illinois at Urbana-Champaign\n",
      "###### **Don't ride Suburban Express (or Illini Shuttle)! They've sued [hundreds](http://dailyillini.com/uncategorized/2013/04/26/suburban-express-lawsuits-reach-125-this-year-conversation-continues-on-reddit-2/) of their customers, threatened the mods with [legal](http://www.reddit.com/r/UIUC/comments/1d3qqc/my_correspondence_with_suburban_expresss_lawyer/) [action](http://www.reddit.com/r/UIUC/comments/1h25xd/more_legal_threats_from_suburban_express_letter/), have [terrible](http://www.yelp.com/biz/suburban-express-champaign) [reviews](https://www.yelp.com/biz/illini-shuttle-champaign), and [more](http://www.reddit.com/r/UIUC/wiki/suburban_express). The university has [condemned](https://studentaffairs.illinois.edu/statement-suburbanexpress) their racist behavior.** \n",
      "\n",
      "**The University of Illinois at Urbana-Champaign**\n",
      "\n",
      "This subreddit is for anyone/anything related to UIUC. Students, Alumni, Faculty, and Townies are all welcome.\n",
      "\n",
      "Given the lack of a regional subreddit, it also covers most things in the Champaign-Urbana area.\n",
      "\n",
      "Message a moderator if your posts are not showing up.  It's probably been removed by the overzealous reddit spam filter.\n",
      "\n",
      "This subreddit is not sponsored or endorsed by the University of Illinois or any other on-campus group.  Please message the moderators if you encounter anyone claiming an affiliation with /r/uiuc.\n",
      "\n",
      "[Comments view so you don't miss anything](http://www.reddit.com/r/UIUC/comments)\n",
      "\n",
      "###**Rules**\n",
      "* [Subreddit rules](http://www.reddit.com/r/UIUC/comments/ocsbm/ruiuc_rules/)\n",
      "\n",
      "###**General**\n",
      "* [Unofficial UIUC Guide](http://www.reddit.com/r/uiuc/wiki/guide)\n",
      "* [Guide for incoming freshmen](http://www.reddit.com/r/UIUC/comments/tnl74/incoming_freshmen_read_this/)\n",
      "\n",
      "###**Academics**\n",
      "* Admissions\n",
      "* Transferring from other universities\n",
      "* Transferring between majors\n",
      "* [Academic probation/Drop action/Readmission](https://www.reddit.com/r/UIUC/wiki/academicprobation)\n",
      "\n",
      "###**Housing**\n",
      "* [Renting/leasing experiences and information](http://www.reddit.com/r/UIUC/comments/xkjp5/official_rentingleasing_experiences_thread/)\n",
      "* [Property management companies](http://www.reddit.com/r/UIUC/comments/15jl5q/any_other_management_companies_for_oncampus/)\n",
      "\n",
      "###**Internet**\n",
      "* [University Housing internet](https://www.reddit.com/r/UIUC/wiki/housing/technology)\n",
      "\n",
      "###**Transportation**\n",
      "* [Local](http://www.reddit.com/r/UIUC/wiki/transportation#wiki_getting_around_champaign-urbana.3A)\n",
      "* To/from Chicago\n",
      "* [To/from airports](http://www.reddit.com/r/UIUC/wiki/transportation#wiki_getting_to_and_from_airports.3A)\n",
      "\n",
      "###**Parking**\n",
      "* [Parking information](http://www.reddit.com/r/UIUC/comments/rdh4y/parking/)\n",
      "\n",
      "###**Dining out**\n",
      "* [Food](http://www.reddit.com/r/UIUC/wiki/food)\n",
      "* [Bars](http://www.reddit.com/r/UIUC/wiki/bars)\n",
      "\n",
      "###**Resources**\n",
      "* [Mental health resources](https://www.reddit.com/r/UIUC/wiki/mentalhealth)\n",
      "\n",
      "###**Wiki**\n",
      "* [/r/uiuc wiki](http://www.reddit.com/r/UIUC/wiki/index) - please contribute!\n",
      "\n",
      "###**Miscellaneous**\n",
      "* [UIUC IRC channel](http://www.reddit.com/r/UIUC/comments/giibd/uiuc_irc_channel_uiuc_on_freenode/)\n",
      "* [Setting your flair](http://www.reddit.com/r/UIUC/comments/lhuom/you_can_now_set_your_own_flair/)\n",
      "\n",
      "###**Related subreddits**\n",
      "* /r/FightingIllini\n",
      "* /r/UIUCrides\n",
      "* /r/Chambana \n",
      "* /r/ParklandCollege\n",
      "* /r/uiucexchange \n"
     ]
    }
   ],
   "source": [
    "reddit = praw.Reddit(client_id='Pj5o8QpNXXJY9A',\n",
    "                     client_secret='pQKMRBmhp0In48NoNvvktfRo2eA', password='prawisgreat',\n",
    "                     user_agent='Name me!', username='RedditUnlocked196')\n",
    "\n",
    "subreddit = reddit.subreddit('uiuc')\n",
    "\n",
    "print(subreddit.display_name)  # Output: redditdev\n",
    "print(subreddit.title)         # Output: reddit Development\n",
    "print(subreddit.description)   # Output: A subreddit for discussion of ..."
   ]
  },
  {
   "cell_type": "code",
   "execution_count": 4,
   "metadata": {},
   "outputs": [
    {
     "name": "stdout",
     "output_type": "stream",
     "text": [
      "Fall 2018 Schedule Megathread!\n",
      "32\n",
      "870r6c\n",
      "https://www.reddit.com/r/UIUC/comments/870r6c/fall_2018_schedule_megathread/\n",
      "My Lon Capa looks like this so hers can look like this.\n",
      "145\n",
      "8ae85f\n",
      "https://i.redd.it/6uua8dx0mdq01.jpg\n",
      "Illini Football Unveils New Uniform Designs\n",
      "64\n",
      "8aaq4z\n",
      "http://fightingillini.com/news/2018/4/5/football-fighting-illini-unveil-new-uniform-designs.aspx\n",
      "CS 450\n",
      "7\n",
      "8af1q7\n",
      "https://www.reddit.com/r/UIUC/comments/8af1q7/cs_450/\n",
      "free cardi b concert\n",
      "3\n",
      "8agbsr\n",
      "https://www.reddit.com/r/UIUC/comments/8agbsr/free_cardi_b_concert/\n",
      "Anyone else have ticketmaster blocked on IllinoisNet? (Currently in a campus building.)\n",
      "5\n",
      "8afb3o\n",
      "https://i.redd.it/i5a1nh4qieq01.jpg\n",
      "Can somebody share their Embedded Systems CS 431 notes or lecture slides with me?\n",
      "3\n",
      "8afnvz\n",
      "https://www.reddit.com/r/UIUC/comments/8afnvz/can_somebody_share_their_embedded_systems_cs_431/\n",
      "International students waiting for EAD\n",
      "2\n",
      "8ag3wc\n",
      "https://www.reddit.com/r/UIUC/comments/8ag3wc/international_students_waiting_for_ead/\n",
      "International students and assimilation\n",
      "5\n",
      "8aesxa\n",
      "https://www.reddit.com/r/UIUC/comments/8aesxa/international_students_and_assimilation/\n",
      "How fucked am I in CS 225?\n",
      "12\n",
      "8ac4wx\n",
      "https://www.reddit.com/r/UIUC/comments/8ac4wx/how_fucked_am_i_in_cs_225/\n"
     ]
    }
   ],
   "source": [
    "for submission in subreddit.hot(limit=10):\n",
    "    print(submission.title)  # Output: the submission's title\n",
    "    print(submission.score)  # Output: the submission's score\n",
    "    print(submission.id)     # Output: the submission's ID\n",
    "    print(submission.url)    # Output: the URL the submission points to\n",
    "                             # or the submission's URL if it's a self post"
   ]
  },
  {
   "cell_type": "markdown",
   "metadata": {},
   "source": [
    "## Integrating Pandas with Reddit data"
   ]
  },
  {
   "cell_type": "code",
   "execution_count": 5,
   "metadata": {},
   "outputs": [],
   "source": [
    "# Make a dataframe to hold the submission data\n",
    "reddit_posts_df = pd.DataFrame({\n",
    "    'Title': (),\n",
    "    'URL': (),\n",
    "    'Upvote Ratio (%)': (),\n",
    "    'Net Score': (),\n",
    "    '# of Upvotes': (),\n",
    "    '# of Downvotes': (),\n",
    "    'Post Timestamp': ()\n",
    "})\n",
    "# Don't worry too much about the details of this; we're just setting up the indexes and stuff\n",
    "reddit_posts_df = reddit_posts_df[['Title', 'URL', 'Upvote Ratio (%)', 'Net Score', '# of Upvotes', '# of Downvotes', 'Post Timestamp']]\n"
   ]
  },
  {
   "cell_type": "code",
   "execution_count": 6,
   "metadata": {},
   "outputs": [],
   "source": [
    "# We don't want to keep typing 'reddit.subreddit(name)', so let's store it in a variable\n",
    "subreddit = reddit.subreddit(\"funny\")"
   ]
  },
  {
   "cell_type": "code",
   "execution_count": null,
   "metadata": {},
   "outputs": [],
   "source": [
    "# We look at every post in the 'top of last week' category and add it to the DataFrame\n",
    "for thread in subreddit.top('year', limit = 10):\n",
    "    # manually calculating the upvote and downvote counts, because the Reddit API no longer returns raw upvote data.\n",
    "    actualUps = int((thread.upvote_ratio * thread.score)/(thread.upvote_ratio * 2 - 1))\n",
    "    actualDowns = actualUps - thread.score\n",
    "    gather = pd.Series([thread.title, thread.url, thread.upvote_ratio * 100, thread.score, actualUps, actualDowns, thread.created_utc], \n",
    "                        index=['Title', 'URL', 'Upvote Ratio (%)', 'Net Score', '# of Upvotes', '# of Downvotes', 'Post Timestamp'])\n",
    "    reddit_posts_df = reddit_posts_df.append(gather, ignore_index = True)\n",
    "reddit_posts_df"
   ]
  },
  {
   "cell_type": "markdown",
   "metadata": {},
   "source": [
    "### Preface to non-passive usage of the API (i.e. using it to post/submit/etc instead of just pulling data)\n",
    "\n",
    "Basic introduction to using Reddit purely through the backend (like bots)"
   ]
  },
  {
   "cell_type": "code",
   "execution_count": null,
   "metadata": {},
   "outputs": [],
   "source": [
    "# What if we want to post something?\n",
    "subreddit = reddit.subreddit(\"sailsp18\")\n",
    "# We can do that too\n",
    "subreddit.submit('Enjoy this G O O D B O Y E', url='https://imgur.com/gallery/Wo8bp')"
   ]
  },
  {
   "cell_type": "markdown",
   "metadata": {},
   "source": [
    "# Challenges? Challenges. CHALLENGES!\n",
    " * Write a script that searches each post of a subreddit and upvotes those that contain the word \"pupper\"\n",
    " * Write a script that collects the total number of upvotes and downvotes that were made in a subreddit within the past 24 hours.\n",
    " * Recreate the !RedditSilver Bot\n",
    " \n",
    " ## These'll help:\n",
    " * http://praw.readthedocs.io/en/latest/\n",
    " * https://pandas.pydata.org/pandas-docs/stable/\n",
    " * https://www..google.com"
   ]
  },
  {
   "cell_type": "code",
   "execution_count": null,
   "metadata": {},
   "outputs": [],
   "source": []
  }
 ],
 "metadata": {
  "kernelspec": {
   "display_name": "Python 3",
   "language": "python",
   "name": "python3"
  },
  "language_info": {
   "codemirror_mode": {
    "name": "ipython",
    "version": 3
   },
   "file_extension": ".py",
   "mimetype": "text/x-python",
   "name": "python",
   "nbconvert_exporter": "python",
   "pygments_lexer": "ipython3",
   "version": "3.6.4"
  }
 },
 "nbformat": 4,
 "nbformat_minor": 2
}
