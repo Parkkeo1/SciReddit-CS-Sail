{
 "cells": [
  {
   "cell_type": "markdown",
   "metadata": {},
   "source": [
    "# Creating your own Reddit bot\n",
    "\n",
    "http://praw.readthedocs.io/en/latest/tutorials/reply_bot.html\n",
    "\n",
    "#### Feel free to look through the documentation and ask us for help!"
   ]
  },
  {
   "cell_type": "code",
   "execution_count": null,
   "metadata": {},
   "outputs": [],
   "source": [
    "import praw\n",
    "\n",
    "# you need to authorize the reddit instance with a valid reddit account with password (i.e. not read-only)\n",
    "reddit = praw.Reddit(client_id='',\n",
    "                     client_secret='', password='',\n",
    "                     user_agent='Name me!', username='')"
   ]
  },
  {
   "cell_type": "code",
   "execution_count": null,
   "metadata": {},
   "outputs": [],
   "source": [
    "# opens a submission stream in /r/sailsp18 (i.e. runs forever, new submission object for every new thread)\n",
    "# different from normal submission pulling. Streams are live.\n",
    "for submission in reddit.subreddit(\"sailsp18\").stream.submissions():\n",
    "    print(submission.title)\n",
    "    # http://praw.readthedocs.io/en/latest/code_overview/models/submission.html\n",
    "    # some ideas:\n",
    "    # 1. upvote/downvote submissions whose attribute(s) match your criteria\n",
    "    # 2. get all comments from each submission and upvote/reply to comments by certain users.\n",
    "    # 3. crosspost all new threads from a given subreddit that match certain criteria to a subreddit of your choosing."
   ]
  }
 ],
 "metadata": {
  "kernelspec": {
   "display_name": "Python 3",
   "language": "python",
   "name": "python3"
  },
  "language_info": {
   "codemirror_mode": {
    "name": "ipython",
    "version": 3
   },
   "file_extension": ".py",
   "mimetype": "text/x-python",
   "name": "python",
   "nbconvert_exporter": "python",
   "pygments_lexer": "ipython3",
   "version": "3.6.4"
  }
 },
 "nbformat": 4,
 "nbformat_minor": 2
}
