{
 "cells": [
  {
   "cell_type": "code",
   "execution_count": null,
   "metadata": {},
   "outputs": [],
   "source": [
    "import pandas as pd\n",
    "import numpy as np\n",
    "import matplotlib.pyplot as plt\n",
    "import matplotlib.patches as mpatches\n",
    "import random\n",
    "import csv"
   ]
  },
  {
   "cell_type": "code",
   "execution_count": null,
   "metadata": {},
   "outputs": [],
   "source": [
    "# Read in 100 Kicktarter projects from the file 'kickstarter_data.csv'\n",
    "kickstarter_df = pd.read_csv('kickstarter_data.csv', nrows=100)"
   ]
  },
  {
   "cell_type": "code",
   "execution_count": null,
   "metadata": {},
   "outputs": [],
   "source": [
    "# The DataFrame is the main structure that we use in Pandas\n",
    "# We use it to store data by different values of different types in an organized table\n",
    "kickstarter_df"
   ]
  },
  {
   "cell_type": "code",
   "execution_count": null,
   "metadata": {},
   "outputs": [],
   "source": [
    "# We can get overall stats regarding our indexes\n",
    "kickstarter_df.describe()"
   ]
  },
  {
   "cell_type": "code",
   "execution_count": null,
   "metadata": {},
   "outputs": [],
   "source": [
    "# We can sort by index\n",
    "kickstarter_df.sort_values('backers', ascending=False)"
   ]
  },
  {
   "cell_type": "code",
   "execution_count": null,
   "metadata": {},
   "outputs": [],
   "source": [
    "# We can filter out entries that meet certain criteria\n",
    "kickstarter_df[kickstarter_df.state == 'successful']"
   ]
  },
  {
   "cell_type": "code",
   "execution_count": null,
   "metadata": {},
   "outputs": [],
   "source": [
    "# Several criteria? No problem.\n",
    "kickstarter_df[(kickstarter_df.state == 'failed') & (kickstarter_df.pledged > 1000.0) & (kickstarter_df.currency == 'USD')] \n",
    "# Find all failed kickstarters that raised more than $1000"
   ]
  },
  {
   "cell_type": "code",
   "execution_count": null,
   "metadata": {},
   "outputs": [],
   "source": [
    "# Using DataFrames, we can do some pretty cool stuff with data visualization\n",
    "#plt.scatter(kickstarter_df['pledged'], kickstarter_df['goal']);\n",
    "#plt.axis([0, 20000, 0, 100000])\n",
    "\n",
    "plt.rcParams['figure.figsize'] = [20,15]\n",
    "\n",
    "colors = {\n",
    "    'successful' : 'green',\n",
    "    'canceled' : 'gold',\n",
    "    'failed' : 'red'\n",
    "}\n",
    "status = ['successful', 'canceled', 'failed']\n",
    "\n",
    "for state in status:\n",
    "    temp_df = kickstarter_df[kickstarter_df.state == state]\n",
    "    plt.scatter(temp_df['pledged'], temp_df['goal'], c=colors[state], s=100)\n",
    "\n",
    "plt.xlabel(\"Pledged\")\n",
    "plt.ylabel(\"Goal\")\n",
    "\n",
    "red_patch = mpatches.Patch(color='red', label='Failed')\n",
    "yellow_patch = mpatches.Patch(color='gold', label='Cancelled')\n",
    "green_patch = mpatches.Patch(color='green', label='Successful')\n",
    "plt.legend(handles=[red_patch, yellow_patch, green_patch], prop={'size':30})\n",
    "\n",
    "plt.show();"
   ]
  },
  {
   "cell_type": "code",
   "execution_count": null,
   "metadata": {},
   "outputs": [],
   "source": []
  }
 ],
 "metadata": {
  "kernelspec": {
   "display_name": "Python 3",
   "language": "python",
   "name": "python3"
  },
  "language_info": {
   "codemirror_mode": {
    "name": "ipython",
    "version": 3
   },
   "file_extension": ".py",
   "mimetype": "text/x-python",
   "name": "python",
   "nbconvert_exporter": "python",
   "pygments_lexer": "ipython3",
   "version": "3.6.4"
  }
 },
 "nbformat": 4,
 "nbformat_minor": 2
}
