{
 "cells": [
  {
   "cell_type": "code",
   "execution_count": null,
   "metadata": {},
   "outputs": [],
   "source": [
    "import praw\n",
    "import pandas as pd\n",
    "import matplotlib as plt\n",
    "import numpy as np\n",
    "import time\n",
    "from datetime import datetime\n",
    "import timeit"
   ]
  },
  {
   "cell_type": "code",
   "execution_count": null,
   "metadata": {},
   "outputs": [],
   "source": [
    "reddit = praw.Reddit(client_id='Pj5o8QpNXXJY9A',\n",
    "                     client_secret='pQKMRBmhp0In48NoNvvktfRo2eA', password='prawisgreat',\n",
    "                     user_agent='Name me!', username='RedditUnlocked196')"
   ]
  },
  {
   "cell_type": "code",
   "execution_count": null,
   "metadata": {},
   "outputs": [],
   "source": [
    "for submission in reddit.subreddit(\"UIUC\").stream.submissions():\n",
    "    print(submission.title)\n",
    "    submission.upvote()"
   ]
  },
  {
   "cell_type": "code",
   "execution_count": null,
   "metadata": {},
   "outputs": [],
   "source": [
    "# Make a dataframe to hold the submission data\n",
    "reddit_posts_df = pd.DataFrame({\n",
    "    'Title': (),\n",
    "    'URL': (),\n",
    "    'Upvote Ratio (%)': (),\n",
    "    'Net Score': (),\n",
    "    '# of Upvotes': (),\n",
    "    '# of Downvotes': (),\n",
    "    'Post Timestamp': ()\n",
    "})\n",
    "# Don't worry too much about the details of this; we're just setting up the indexes and stuff\n",
    "reddit_posts_df = reddit_posts_df[['Title', 'URL', 'Upvote Ratio (%)', 'Net Score', '# of Upvotes', '# of Downvotes', 'Post Timestamp']]\n"
   ]
  },
  {
   "cell_type": "code",
   "execution_count": null,
   "metadata": {},
   "outputs": [],
   "source": [
    "# We don't want to keep typing 'reddit.subreddit(name)', so let's store it in a variable\n",
    "subreddit = reddit.subreddit(\"funny\")"
   ]
  },
  {
   "cell_type": "code",
   "execution_count": null,
   "metadata": {},
   "outputs": [],
   "source": [
    "# We look at every post in the 'top of last week' category and add it to the DataFrame\n",
    "for thread in subreddit.top('year', limit = 10):\n",
    "    # manually calculating the upvote and downvote counts, because the Reddit API no longer returns raw upvote data.\n",
    "    actualUps = int((thread.upvote_ratio * thread.score)/(thread.upvote_ratio * 2 - 1))\n",
    "    actualDowns = actualUps - thread.score\n",
    "    gather = pd.Series([thread.title, thread.url, thread.upvote_ratio * 100, thread.score, actualUps, actualDowns, thread.created_utc], \n",
    "                        index=['Title', 'URL', 'Upvote Ratio (%)', 'Net Score', '# of Upvotes', '# of Downvotes', 'Post Timestamp'])\n",
    "    reddit_posts_df = reddit_posts_df.append(gather, ignore_index = True)\n",
    "reddit_posts_df"
   ]
  },
  {
   "cell_type": "code",
   "execution_count": null,
   "metadata": {},
   "outputs": [],
   "source": [
    "# What if we want to post something?\n",
    "subreddit = reddit.subreddit(\"sailsp18\")\n",
    "# We can do that too\n",
    "subreddit.submit('Enjoy this G O O D B O Y E', url='https://imgur.com/gallery/Wo8bp')"
   ]
  },
  {
   "cell_type": "markdown",
   "metadata": {},
   "source": [
    "# Challenges? Challenges. CHALLENGES!\n",
    " * Write a script that searches each post of a subreddit and upvotes those that contain the word \"pupper\"\n",
    " * Write a script that collects the total number of upvotes and downvotes that were made in a subreddit within the past 24 hours.\n",
    " * Recreate the !RedditSilver Bot\n",
    " \n",
    " ## These'll help:\n",
    " * http://praw.readthedocs.io/en/latest/\n",
    " * https://pandas.pydata.org/pandas-docs/stable/\n",
    " * https://www..google.com"
   ]
  },
  {
   "cell_type": "code",
   "execution_count": null,
   "metadata": {},
   "outputs": [],
   "source": []
  }
 ],
 "metadata": {
  "kernelspec": {
   "display_name": "Python 3",
   "language": "python",
   "name": "python3"
  },
  "language_info": {
   "codemirror_mode": {
    "name": "ipython",
    "version": 3
   },
   "file_extension": ".py",
   "mimetype": "text/x-python",
   "name": "python",
   "nbconvert_exporter": "python",
   "pygments_lexer": "ipython3",
   "version": "3.6.4"
  }
 },
 "nbformat": 4,
 "nbformat_minor": 2
}
