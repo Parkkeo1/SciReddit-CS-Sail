{
 "cells": [
  {
   "cell_type": "markdown",
   "metadata": {},
   "source": [
    "# APIs\n",
    "This week we'll be discussing how to get and process data from the web with Application Programming Interfaces."
   ]
  },
  {
   "cell_type": "code",
   "execution_count": null,
   "metadata": {},
   "outputs": [],
   "source": [
    "# This is old\n",
    "import requests\n",
    "import json\n",
    "import matplotlib.pyplot as plt\n",
    "% matplotlib inline\n",
    "from datetime import datetime\n",
    "from bs4 import BeautifulSoup\n",
    "\n",
    "# These are new\n",
    "# import tweepy\n",
    "\n",
    "# Load secret keys\n",
    "with open('api_keys.json') as f:\n",
    "    api_keys = json.loads(f.read())"
   ]
  },
  {
   "cell_type": "markdown",
   "metadata": {},
   "source": [
    "## Example 1: Bitcoin\n",
    "In this example, we'll go through the process of manually querying a Bitcoin API\n",
    "\n",
    "* You can find the API documentation [here](https://blockchain.info/api)"
   ]
  },
  {
   "cell_type": "code",
   "execution_count": null,
   "metadata": {},
   "outputs": [],
   "source": [
    "# Getting exchange rates\n",
    "# (A simple API with no necessary parameters)\n",
    "r = requests.get('https://blockchain.info/ticker')\n",
    "print('status code: ' + str(r.status_code))\n",
    "r.json()"
   ]
  },
  {
   "cell_type": "code",
   "execution_count": null,
   "metadata": {},
   "outputs": [],
   "source": [
    "# A more complicated API request\n",
    "# We can use a parameters dictionary to specify 'arguments' to the API\n",
    "params = {\n",
    "    'timespan': '1years',\n",
    "    'rollingAverage': '1days'\n",
    "}\n",
    "r = requests.get('https://api.blockchain.info/charts/market-price', params=params)\n",
    "print(r.url)\n",
    "data = r.json()\n",
    "data"
   ]
  },
  {
   "cell_type": "code",
   "execution_count": null,
   "metadata": {},
   "outputs": [],
   "source": [
    "x_values = [datetime.fromtimestamp(t['x']) for t in data['values']]\n",
    "y_values = [t['y'] for t in data['values']]\n",
    "\n",
    "fig, ax = plt.subplots()\n",
    "ax.plot(x_values, y_values)\n",
    "fig.autofmt_xdate()"
   ]
  },
  {
   "cell_type": "markdown",
   "metadata": {},
   "source": [
    "## Example 2: Dictionary API (with API key)\n",
    "* You can read about the DictionaryAPI [here](http://www.dictionaryapi.com/)"
   ]
  },
  {
   "cell_type": "code",
   "execution_count": null,
   "metadata": {},
   "outputs": [],
   "source": [
    "# We can write a simple API wrapper function to make using the API easier in the future\n",
    "def word_definitions(word):\n",
    "    # Here we'll load in our api key\n",
    "    params = {\n",
    "        'key': api_keys['dictionary_api_key']\n",
    "    }\n",
    "    # Constructing the full URL\n",
    "    url = 'http://www.dictionaryapi.com/api/v1/references/collegiate/xml/' + word\n",
    "    \n",
    "    # Passing parameters into the request and executing it\n",
    "    r = requests.get(url, params=params)\n",
    "    \n",
    "    # Using BeautifulSoup to parse the XML response (ew, XML...)\n",
    "    soup = BeautifulSoup(r.text, 'xml')\n",
    "    \n",
    "    # Scrape defns from the response\n",
    "    defs = []\n",
    "    for e in soup.find_all('entry'):\n",
    "        defs.append(e.find('dt').text)\n",
    "    return defs\n",
    "\n",
    "print(\"Soup:\")\n",
    "print('\\n'.join(word_definitions('soup')))\n",
    "\n",
    "print(\"\\nDank:\") \n",
    "print('\\n'.join(word_definitions('dank')))\n"
   ]
  },
  {
   "cell_type": "markdown",
   "metadata": {},
   "source": [
    "## Example 3: Twitter with Tweepy\n",
    "In this example, we'll show an example of accessing an API with a Python wrapper.\n",
    "\n",
    "* You can read the Tweepy documentation [here](https://tweepy.readthedocs.io/)\n",
    "* Get an API key by making an app [here](https://apps.twitter.com/)"
   ]
  },
  {
   "cell_type": "code",
   "execution_count": null,
   "metadata": {},
   "outputs": [],
   "source": [
    "# Load API keys\n",
    "consumer_key = api_keys['consumer_key']\n",
    "consumer_secret = api_keys['consumer_secret']\n",
    "access_token = api_keys['access_token']\n",
    "access_token_secret = api_keys['access_token_secret']\n",
    "\n",
    "# Authenticate Tweepy\n",
    "auth = tweepy.OAuthHandler(consumer_key, consumer_secret)\n",
    "auth.set_access_token(access_token, access_token_secret)\n",
    "api = tweepy.API(auth)"
   ]
  },
  {
   "cell_type": "code",
   "execution_count": null,
   "metadata": {},
   "outputs": [],
   "source": [
    "# Do magic\n",
    "elon = api.get_user('elonmusk')\n",
    "print('elon is followed by: ' + str(elon.followers_count))\n",
    "print('elon follows: ' + str(elon.friends_count))"
   ]
  },
  {
   "cell_type": "code",
   "execution_count": null,
   "metadata": {},
   "outputs": [],
   "source": [
    "elon_tweets = api.user_timeline('elonmusk', count=10)\n",
    "for t in elon_tweets:\n",
    "    print(t.text + '\\n')\n",
    "    "
   ]
  },
  {
   "cell_type": "code",
   "execution_count": null,
   "metadata": {},
   "outputs": [],
   "source": [
    "# We can also send data to Twitter using Tweepy\n",
    "tweet = api.update_status(\"I'm teaching a lecture on APIs. Here's a tweet.\")\n",
    "print(tweet.id)\n",
    "print(tweet.text)\n",
    "print(tweet.created_at)\n"
   ]
  },
  {
   "cell_type": "code",
   "execution_count": null,
   "metadata": {},
   "outputs": [],
   "source": [
    "# Streaming tweets is a great way of capturing lots of data\n",
    "# (You can get around the limits of Twitter searching)\n",
    "\n",
    "# Step 1) We need to create a class that will handle when we get new Tweets\n",
    "class MyStreamListener(tweepy.StreamListener):\n",
    "    \n",
    "    # This method will be called when new tweets come in\n",
    "    def on_status(self, status):\n",
    "        print(status.text)\n",
    "\n",
    "# Step 2) We need to setup a stream and tell Tweepy to send Tweets to our listener\n",
    "myStreamListener = MyStreamListener()\n",
    "myStream = tweepy.Stream(auth = api.auth, listener=myStreamListener)\n",
    "\n",
    "# Step 3) Turn on the Tweet Stream and track a particular phrase.\n",
    "myStream.filter(track=[u'pizza'], async=False)\n",
    "        "
   ]
  },
  {
   "cell_type": "markdown",
   "metadata": {},
   "source": [
    "# Challenges!\n",
    "**NOTE:** This week's challenges aren't too difficult to implement, but it may be difficult to understand _how_ to implement them. This is intentional. A very important skill in working with APIs is learning how to read and understand the documentation that is provided with them. These challenges will try to help you develope that skillset.\n",
    "\n",
    "### Challenge 1: Bitcoin Price over time\n",
    "Write a function that queries the Blockchain API (Example 1) and graphs the USD Market Price of Bitcoin over the last year.\n",
    "It may be helpful to look at the [Blockchain Charts API documentation](https://blockchain.info/api/charts_api)"
   ]
  },
  {
   "cell_type": "code",
   "execution_count": 20,
   "metadata": {},
   "outputs": [
    {
     "data": {
      "image/png": "[encoded data removed]",
      "text/plain": [
       "<matplotlib.figure.Figure at 0x7f265f9ed240>"
      ]
     },
     "metadata": {},
     "output_type": "display_data"
    }
   ],
   "source": [
    "import requests\n",
    "import json\n",
    "import matplotlib.pyplot as plt\n",
    "% matplotlib inline\n",
    "from datetime import datetime\n",
    "from bs4 import BeautifulSoup\n",
    "\n",
    "def bitcoin_price():\n",
    "    params = {\n",
    "        'timespan': '1years',\n",
    "        'rollingAverage': '1days'\n",
    "    }\n",
    "    \n",
    "    r = requests.get('https://api.blockchain.info/charts/market-price', params=params)\n",
    "    \n",
    "    data = r.json()\n",
    "    \n",
    "    x_values = [datetime.fromtimestamp(i['x']) for i in data['values']]\n",
    "    y_values = [j['y'] for j in data['values']]\n",
    "\n",
    "    fig, ax = plt.subplots()\n",
    "    ax.plot(x_values, y_values)\n",
    "    fig.autofmt_xdate()\n",
    "    \n",
    "bitcoin_price()\n",
    "    "
   ]
  },
  {
   "cell_type": "markdown",
   "metadata": {},
   "source": [
    "### Challenge 2: Creator of Liked Tweets\n",
    "Given a user, write a function that will return a list of the users that wrote the last 100 tweets that the input user has liked.\n",
    "\n",
    "**Note:** You'll need a set of Twitter credentials to complete this challenge. (Just make a throwaway account, and create an app at https://apps.twitter.com/ to get your set of API credentials)\n"
   ]
  },
  {
   "cell_type": "code",
   "execution_count": 21,
   "metadata": {},
   "outputs": [
    {
     "name": "stdout",
     "output_type": "stream",
     "text": [
      "['TheOnion', 'WorldAndScience', 'SpaceX', 'Gizmodo', 'WorldAndScience', 'juliojaimezz', 'WorldAndScience', 'atlasobscura', 'JustinRoiland', 'verge', 'WorldAndScience', 'elonmusk', 'TheOnion', 'WorldAndScience', 'Lakers', 'andrewbogut', 'HistoryInPics', 'Kotaku', 'WorldAndScience', 'WorldAndScience', 'SpaceX', 'OpenAI', 'WorldAndScience', 'Space_Station', 'WorldAndScience', 'ziggyfro', 'Hypothetical_E', 'Astro_Sabot', 'WorldAndScience', 'WorldAndScience', 'A_Mar11Gutie', 'HistoryInPics', 'BD_Makerspace', 'katebevan', 'WorldAndScience', 'WorldAndScience', 'Space_Station', 'verge', 'WorldAndScience', 'DrSteveFawkes', 'guywalters', 'WorldAndScience', 'imgur', 'reed_lewis', 'ajplus', 'TheOnion', 'Wallace_Design', 'ThingsWork', 'TheOnion', 'HistoryInPics', 'DPRK_News', 'AstroKomrade', 'HistoryInPics', 'WorldAndScience', 'WorldAndScience', 'WorldAndScience', 'Tesla', 'mystealthXflies', 'TheOnion', 'WorldAndScience', 'imgur', 'TobiasAHuber', 'sohrab21', 'TheOnion', 'atlasobscura', 'ThingsWork', 'vicentes', 'imgur', 'WorldAndScience', 'EliteDangerous', 'SteinwayRestore', 'RickandMorty', 'astro_g_dogg', 'cunnanetweets', 'MiamiBeachPages', 'TheOnion', 'scienmag', 'WorldAndScience', 'WorldAndScience', 'WorldAndScience', 'WorldAndScience', 'lalcaraz', 'TheOnion', 'WorldAndScience', 'StephenByrne86', 'Space_Station', 'FrancisBrero', '9GAGTweets', 'WorldAndScience', '9GAGTweets', '9GAGTweets', 'HistoryInPics', 'ThingsWork', 'dom_at_work', 'fxrseen', 'tsrandall', 'JasonBWLake', 'WorldAndScience', 'latimes', 'tsrandall']\n",
      "['PeterSanchez', 'hiimtaylorjones', 'offby1', 'sarangbk', 'Gulopine', 'offby1', 'zoocat', 'mitsuhiko', 'Ocramius', 'gekitsuu', 'dbader_org', 'gekitsuu', 'supercub666', 'shimst3r', 'neirbowj', 'gamesbrainiac', 'tef_ebooks', 'Big_in_VA', 'tartley', 'quinnnorton', 'brianokken', 'brianokken', 'byt3bl33d3r', 'NickBruun', 'pk11112999', 'webology', 'PaulM', 'dzuelke', 'devsupportman', 'mitsuhiko', 'rusin', 'hiSaugat', 'nerdgineerx', 'sharmavishwas7', 'wemake_services', 'erinxocon', 'Vees_Dad', 'leahculver', 'chrisjrn', 'grmpyprogrammer', 'holdenweb', 'holdenweb', 'shimst3r', 'cedwardsmedia', 'ewilazarus', 'DaddyOh', 'clickdroid', 'melbacoast', 'eddie_pete', 'adhaamehab', 'vsupalov', '_as_a_service', '7d1', '__olamilekan__', 'jdorfman', 'j00bar', 'nahiable', 'ramalhoorg', 'Vees_Dad', '__olamilekan__', 'notdaniel', 'funkatron', 'ThePSF', 'rukku', 'edgardmota', 'yonasing', 'kfirbreger', 'ChaosDatumz', 'adhaamehab', 'breaking_bytes', '_rshk', 'dgouldin', 'bitprophet', 'codefinger', 'davidism', 'AdilHindistan', 'AdilHindistan', 'Beee_sama', 'Beee_sama', 'Beee_sama', 'RedditPython', 'cedwardsmedia', 'McDonalds', 'pvergain', 'marctuduri', 'simonw', 'whit537', 'oliverandrich', 'marcusbertrand', 'justArv1nd', 'pydanny', 'marctuduri', 'jezdez', 'pydanny', 'pydanny', 'fxdgear', 'sergey11g', 'cocoatomo', 'ericholscher', 'BrenBriggs']\n",
      "['mattrobenolt', 'LukasFittl', 'thomasfuchs', 'thomasfuchs', 'thomasfuchs', 'georg_renner', 'SethEverman', 'a_nnaschneider', 'terrorobe', 'danielarber', 'georg_renner', 'williampietri', 'pydanny', 'puzzledpeaces', 'DynamicWebPaige', 'Lazer', 'moritzplassnig', 'RobertHarm', 'pbergsen', 'CNN', 'rguillebert', 'peggyrayzis', 'a_nnaschneider', 'NikoAlm', 'NikoAlm', 'michlbrmly', 'georg_renner', 'MevluetK', 'thomas_mohr', 'okonetchnikov', 'maxschrems', 'karlamov', 'monikaturyna', 'avrong', 'maxschrems', 'moser_at', 'moser_at', 'dieGamon', 'rudifussi', 'maxschrems', 'MacLemon', 'IrmgardGriss', 'chrismaddern', 'dieGamon', 'matstrolz', 'dhh', 'mauerfallkind', 'wycats', 'OliverScheiber1', 'zeeg', 'moser_at', 'joseflentsch', 'janboehm', 'cyclingtiger', 'LeopoldStammler', 'FBoschek', 'dieGamon', 'terrorobe', 'sosmitmensch', 'neos_eu', 'Plapperbaer', 'matstrolz', 'w_nina', 'FPrettenthaler', 'lou_lorenz', 'MartinSchulz', 'heimolepuschitz', 'anna_thalhammer', 'MathiasKainz', 'dieGamon', 'footballaustria', 'neos_eu', 'nederdirk', 'OliveraStajic', 'amix3k', 'neos_eu', 'omfritz', 'zeeg', 'VHofinger', 'ulrikeguerot', 'terrorobe', 'maxschrems', 'monikaturyna', 'matstrolz', 'thomasfuchs', 'daschl', 'discordianfish', 'steipete', 'neos_eu', 'a_nnaschneider', 'grafkaroly', 'c_lindner', 'CosmoXP', 'susanthesquark', 'LPDWien', 'LPDWien', 'LPDWien', 'LPDWien', 'steipete', 'LandauDaniel']\n"
     ]
    }
   ],
   "source": [
    "import requests\n",
    "import json\n",
    "from datetime import datetime\n",
    "from bs4 import BeautifulSoup\n",
    "import tweepy\n",
    "\n",
    "def liked_tweet_creators(user):\n",
    "    auth = tweepy.OAuthHandler('1X5fCqPl7yVvYxQjQJwkvavFD', 'NXbTDPP3HxlXOL5dWdCegEP09odLAkxUWlyRvZqXxtAtdX597G')\n",
    "    auth.set_access_token('925495606931546112-mn3Hda41LsZhbYAKJtddL7TulRKucuj', 'lvCFqSLv5YvOGzCINH6JZ5cBI1CEkPKrRioBn5Iuec3Tt')\n",
    "    \n",
    "    api = tweepy.API(auth)\n",
    "    \n",
    "    listOfFavs = []\n",
    "    \n",
    "    for status in tweepy.Cursor(api.favorites, id = user).items(100):\n",
    "        listOfFavs.append(status.author.screen_name)\n",
    "\n",
    "    # setOfFavs = set(listOfFavs)\n",
    "    \n",
    "    # listOfFavs = list(setOfFavs)\n",
    "    return listOfFavs\n",
    "        \n",
    "print(liked_tweet_creators('elonmusk'))\n",
    "print(liked_tweet_creators('kennethreitz')) # Author of requests\n",
    "print(liked_tweet_creators('mitsuhiko')) # Author of Flask"
   ]
  },
  {
   "cell_type": "markdown",
   "metadata": {},
   "source": [
    "### Challenge 3: Stream Saver\n",
    "\n",
    "Write a function, or set of functions, that takes as an argument a list of search terms and opens a Tweet stream with those search terms. The function should filter out any tweets that are retweets of other tweets, and should filter out any tweets that are `@` replies to other users (the only tweets that we care about are 'original' tweets). As each tweet comes in, append it to a `csv` file specified by `filename` (Note, you have to create this file if it doesn't exist)\n",
    "\n",
    "For each tweet, save the following information:\n",
    "* Tweet content (text)\n",
    "* The user that wrote the tweet\n",
    "* When the tweet was created\n",
    "* The 'tweet id' of the tweet\n",
    "\n",
    "(See Challange 2 for note about Twitter Credentials)"
   ]
  },
  {
   "cell_type": "code",
   "execution_count": null,
   "metadata": {},
   "outputs": [],
   "source": [
    "import requests\n",
    "import json\n",
    "from datetime import datetime\n",
    "from bs4 import BeautifulSoup\n",
    "import tweepy\n",
    "import csv\n",
    "\n",
    "def stream_saver(search_terms, filename):\n",
    "    class MyStreamListener(tweepy.StreamListener):\n",
    "    \n",
    "        def on_status(self, status):\n",
    "            if status.text[0:2] != \"RT\" and status.text[0] != \"@\":\n",
    "                statusList = [status.text, status.author.screen_name, status.created_at, status.id]\n",
    "                with open(filename, 'a') as statusCSV:\n",
    "                    statusWriter = csv.writer(statusCSV, dialect = 'excel')\n",
    "                    statusWriter.writerow(statusList)\n",
    "            \n",
    "    auth = tweepy.OAuthHandler('1X5fCqPl7yVvYxQjQJwkvavFD', 'NXbTDPP3HxlXOL5dWdCegEP09odLAkxUWlyRvZqXxtAtdX597G')\n",
    "    auth.set_access_token('925495606931546112-mn3Hda41LsZhbYAKJtddL7TulRKucuj', 'lvCFqSLv5YvOGzCINH6JZ5cBI1CEkPKrRioBn5Iuec3Tt')\n",
    "    \n",
    "    api = tweepy.API(auth)        \n",
    "\n",
    "    myStreamListener = MyStreamListener()\n",
    "    myStream = tweepy.Stream(auth = api.auth, listener = myStreamListener)\n",
    "\n",
    "    myStream.filter(track = search_terms, async = False)\n",
    "    \n",
    "stream_saver(['reddit'], 'test.txt')"
   ]
  },
  {
   "cell_type": "markdown",
   "metadata": {},
   "source": [
    "## Bonus Challenge (Totally Optional)\n",
    "#### (Worth a maximum of 2 extra points)\n",
    "\n",
    "Write a function or set of functions that:\n",
    "1. Finds the [Twitch]() channel that currently has the most number of live viewers.\n",
    "2. Enters that Twitch channels chat.\n",
    "3. Saves the chat to a csv file, saving username, message text, and message time data.\n",
    "\n",
    "You may use any python API wrappers or helper modules that you may find useful. The Twitch developer page will also be helpful (https://dev.twitch.tv/)"
   ]
  }
 ],
 "metadata": {
  "kernelspec": {
   "display_name": "Python [default]",
   "language": "python",
   "name": "python3"
  },
  "language_info": {
   "codemirror_mode": {
    "name": "ipython",
    "version": 3
   },
   "file_extension": ".py",
   "mimetype": "text/x-python",
   "name": "python",
   "nbconvert_exporter": "python",
   "pygments_lexer": "ipython3",
   "version": "3.6.2"
  }
 },
 "nbformat": 4,
 "nbformat_minor": 1
}
